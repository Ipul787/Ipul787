{
  "nbformat": 4,
  "nbformat_minor": 0,
  "metadata": {
    "colab": {
      "provenance": []
    },
    "kernelspec": {
      "name": "python3",
      "display_name": "Python 3"
    },
    "language_info": {
      "name": "python"
    }
  },
  "cells": [
    {
      "cell_type": "markdown",
      "source": [
        "There is a basket which contains 10 apples with the following weight for each apple : \n",
        "100gr, 200gr, 150gr, 100gr, 120gr, 80gr, 90gr, 160gr, 110gr, 170gr"
      ],
      "metadata": {
        "id": "6-g4wVC8b02B"
      }
    },
    {
      "cell_type": "markdown",
      "source": [
        "Mean"
      ],
      "metadata": {
        "id": "bfKYVJcBkIdy"
      }
    },
    {
      "cell_type": "markdown",
      "source": [
        "Numpy"
      ],
      "metadata": {
        "id": "rZpQFWaHkLjq"
      }
    },
    {
      "cell_type": "code",
      "execution_count": 5,
      "metadata": {
        "colab": {
          "base_uri": "https://localhost:8080/"
        },
        "id": "n2Ye4dJvT3ck",
        "outputId": "5bd7a732-fe93-41d8-fa61-11416fc098fa"
      },
      "outputs": [
        {
          "output_type": "stream",
          "name": "stdout",
          "text": [
            "128.0\n"
          ]
        }
      ],
      "source": [
        "import numpy as np\n",
        "apple = [100, 200, 150, 100, 120, 80, 90, 160, 110, 170]\n",
        "avg_apple = np.mean(apple)\n",
        "print(avg_apple)"
      ]
    },
    {
      "cell_type": "markdown",
      "source": [
        "Native"
      ],
      "metadata": {
        "id": "0fml0M-CmOrE"
      }
    },
    {
      "cell_type": "code",
      "source": [
        "apple = [100, 200, 150, 100, 120, 80, 90, 160, 110, 170]\n",
        "\n",
        "total_weight = 0\n",
        "\n",
        "for i in range(len(apple)):\n",
        "  total_weight = total_weight + apple[i]\n",
        "\n",
        "avg_apple = total_weight / len(apple)\n",
        "print(avg_apple)"
      ],
      "metadata": {
        "colab": {
          "base_uri": "https://localhost:8080/"
        },
        "id": "8FONE7oimPzW",
        "outputId": "dd1c55bf-5fe0-45a4-98dc-22ddff9a07d2"
      },
      "execution_count": 8,
      "outputs": [
        {
          "output_type": "stream",
          "name": "stdout",
          "text": [
            "128.0\n"
          ]
        }
      ]
    },
    {
      "cell_type": "markdown",
      "source": [
        "Median"
      ],
      "metadata": {
        "id": "yg2F9cTLkNZw"
      }
    },
    {
      "cell_type": "markdown",
      "source": [
        "Numpy"
      ],
      "metadata": {
        "id": "RMQLDFMCkOmg"
      }
    },
    {
      "cell_type": "code",
      "source": [
        "import numpy as np\n",
        "apple = [100, 200, 150, 100, 120, 80, 90, 160, 110, 170]\n",
        "med_apple = np.median(apple)\n",
        "apple.sort()\n",
        "apple_sort = ' '.join(map(str, apple))\n",
        "print('Sorted apple : {:s}'.format(apple_sort))\n",
        "print(med_apple)"
      ],
      "metadata": {
        "colab": {
          "base_uri": "https://localhost:8080/"
        },
        "id": "Uo0xXdlfT5NX",
        "outputId": "b0843f5e-917a-4319-e903-7358ba062fdf"
      },
      "execution_count": 6,
      "outputs": [
        {
          "output_type": "stream",
          "name": "stdout",
          "text": [
            "Sorted apple : 80 90 100 100 110 120 150 160 170 200\n",
            "115.0\n"
          ]
        }
      ]
    },
    {
      "cell_type": "markdown",
      "source": [
        "12th High School Student Grade at SMA XYZ -> 70, 80, 70, 70, 90, 100"
      ],
      "metadata": {
        "id": "2W9DHJ04i3-u"
      }
    },
    {
      "cell_type": "markdown",
      "source": [
        "Mode"
      ],
      "metadata": {
        "id": "Pih7nd0Hn43Y"
      }
    },
    {
      "cell_type": "code",
      "source": [
        "from scipy import stats\n",
        "import statistics as s\n",
        "\n",
        "score = [70, 80, 70, 70, 90, 100]\n",
        "\n",
        "mode_score = stats.mode(score)\n",
        "modus = s.mode(score)\n",
        "print(modus)\n",
        "print(mode_score)\n",
        "print(mode_score.mode)"
      ],
      "metadata": {
        "colab": {
          "base_uri": "https://localhost:8080/"
        },
        "id": "yEL7UnJFhMrJ",
        "outputId": "c6f02d55-3cc7-4404-c99f-7cd39f9e2764"
      },
      "execution_count": 7,
      "outputs": [
        {
          "output_type": "stream",
          "name": "stdout",
          "text": [
            "70\n",
            "ModeResult(mode=array([70]), count=array([3]))\n",
            "[70]\n"
          ]
        }
      ]
    },
    {
      "cell_type": "markdown",
      "source": [
        "Range"
      ],
      "metadata": {
        "id": "dQBpAFJXn7cD"
      }
    },
    {
      "cell_type": "code",
      "source": [
        "import numpy as np\n",
        "\n",
        "data = [70, 80, 70, 70, 90, 100]\n",
        "data_max = max(data)\n",
        "data_min = min(data)\n",
        "range = data_max - data_min\n",
        "print(range)"
      ],
      "metadata": {
        "colab": {
          "base_uri": "https://localhost:8080/"
        },
        "id": "sFloCsnan8le",
        "outputId": "75dd72cd-aa43-4fc9-e4d0-ad7a75f7ab9e"
      },
      "execution_count": 9,
      "outputs": [
        {
          "output_type": "stream",
          "name": "stdout",
          "text": [
            "30\n"
          ]
        }
      ]
    },
    {
      "cell_type": "markdown",
      "source": [
        "Please obtain the Q3 and Q1 values of these dataset\n",
        "\n",
        "23 25 45 54 55 55 56 59 62 65 85"
      ],
      "metadata": {
        "id": "8g4gK7PiyQxL"
      }
    },
    {
      "cell_type": "code",
      "source": [
        "import numpy as np\n",
        "import pandas as pd\n",
        "\n",
        "new_data = np.array([23, 56, 45, 65, 59, 55, 62, 54, 85, 25, 55])\n",
        "print(pd.DataFrame(new_data).describe())"
      ],
      "metadata": {
        "colab": {
          "base_uri": "https://localhost:8080/"
        },
        "id": "nmUg1ioDxwRt",
        "outputId": "b9b86399-08b6-4a32-c393-df3c054c4f37"
      },
      "execution_count": 10,
      "outputs": [
        {
          "output_type": "stream",
          "name": "stdout",
          "text": [
            "               0\n",
            "count  11.000000\n",
            "mean   53.090909\n",
            "std    17.466852\n",
            "min    23.000000\n",
            "25%    49.500000\n",
            "50%    55.000000\n",
            "75%    60.500000\n",
            "max    85.000000\n"
          ]
        }
      ]
    }
  ]
}